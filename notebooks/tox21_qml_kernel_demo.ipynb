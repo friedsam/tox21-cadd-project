{
 "cells": [
  {
   "cell_type": "markdown",
   "id": "055bf2b5",
   "metadata": {},
   "source": [
    "\n",
    "# 🧬 Quantum Machine Learning Demo on Tox21 (Binary Task)\n",
    "\n",
    "This notebook demonstrates a minimal QML pipeline using a subset of the Tox21 dataset.\n",
    "We use a binary classification setup (toxic vs non-toxic for one task) and apply a quantum kernel method using `PennyLane`.\n",
    "\n",
    "---\n",
    "\n",
    "## What it does:\n",
    "- Loads Tox21 and selects a single binary task (e.g., NR-AR)\n",
    "- Reduces data size for quick training and simulation\n",
    "- Uses a simple quantum feature map and kernel-based classifier\n",
    "\n",
    "**Note:** Requires `pennylane`, `scikit-learn`, `matplotlib`, and `deepchem`.\n",
    "    "
   ]
  },
  {
   "cell_type": "code",
   "execution_count": null,
   "id": "dac56da4",
   "metadata": {},
   "outputs": [],
   "source": [
    "\n",
    "# Install requirements (uncomment if needed)\n",
    "# !pip install pennylane scikit-learn matplotlib deepchem\n",
    "    "
   ]
  },
  {
   "cell_type": "code",
   "execution_count": null,
   "id": "df7d8f8e",
   "metadata": {},
   "outputs": [],
   "source": [
    "\n",
    "import deepchem as dc\n",
    "import numpy as np\n",
    "from sklearn.model_selection import train_test_split\n",
    "from sklearn.preprocessing import StandardScaler\n",
    "\n",
    "# Select one binary classification task\n",
    "task_index = 0  # e.g., NR-AR\n",
    "tox21_tasks, datasets, transformers = dc.molnet.load_tox21(featurizer='ECFP')\n",
    "train_dataset, valid_dataset, test_dataset = datasets\n",
    "\n",
    "X = train_dataset.X\n",
    "y = train_dataset.y[:, task_index]  # Single task\n",
    "\n",
    "# Filter out NaN labels\n",
    "mask = ~np.isnan(y)\n",
    "X = X[mask]\n",
    "y = y[mask]\n",
    "\n",
    "# Downsample for quick QML training\n",
    "X_small, _, y_small, _ = train_test_split(X, y, train_size=100, stratify=y, random_state=42)\n",
    "scaler = StandardScaler()\n",
    "X_small = scaler.fit_transform(X_small)\n",
    "    "
   ]
  },
  {
   "cell_type": "code",
   "execution_count": null,
   "id": "76598b94",
   "metadata": {},
   "outputs": [],
   "source": [
    "\n",
    "import pennylane as qml\n",
    "from pennylane.kernels import kernel_matrix\n",
    "from sklearn.svm import SVC\n",
    "from sklearn.metrics import classification_report\n",
    "\n",
    "n_qubits = 6\n",
    "X_small = X_small[:, :n_qubits]  # Reduce to match qubit count\n",
    "\n",
    "dev = qml.device(\"default.qubit\", wires=n_qubits)\n",
    "\n",
    "def feature_map(x):\n",
    "    for i in range(n_qubits):\n",
    "        qml.Hadamard(wires=i)\n",
    "        qml.RZ(x[i], wires=i)\n",
    "    for i in range(n_qubits - 1):\n",
    "        qml.CNOT(wires=[i, i+1])\n",
    "\n",
    "@qml.qnode(dev)\n",
    "def kernel_circuit(x1, x2):\n",
    "    qml.templates.AngleEmbedding(x1, wires=range(n_qubits))\n",
    "    qml.adjoint(feature_map)(x2)\n",
    "    return qml.probs(wires=range(n_qubits))\n",
    "    "
   ]
  },
  {
   "cell_type": "code",
   "execution_count": null,
   "id": "40d6a2f0",
   "metadata": {},
   "outputs": [],
   "source": [
    "\n",
    "print(\"Computing quantum kernel...\")\n",
    "q_kernel = kernel_matrix(X_small, X_small, kernel=kernel_circuit)\n",
    "\n",
    "clf = SVC(kernel='precomputed')\n",
    "clf.fit(q_kernel, y_small)\n",
    "\n",
    "# Predict using same kernel (self-similarity)\n",
    "y_pred = clf.predict(q_kernel)\n",
    "print(classification_report(y_small, y_pred))\n",
    "    "
   ]
  }
 ],
 "metadata": {},
 "nbformat": 4,
 "nbformat_minor": 5
}
