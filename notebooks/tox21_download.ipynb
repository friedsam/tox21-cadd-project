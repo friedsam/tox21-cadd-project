{
 "cells": [
  {
   "cell_type": "markdown",
   "id": "d6d9d388",
   "metadata": {},
   "source": [
    "# 🧪 Tox21 Dataset Exploration\n",
    "This notebook downloads the Tox21 dataset and explores its structure using DeepChem and RDKit."
   ]
  },
  {
   "cell_type": "code",
   "execution_count": null,
   "id": "f4f4e563",
   "metadata": {},
   "outputs": [],
   "source": [
    "import deepchem as dc\n",
    "import pandas as pd\n",
    "from rdkit import Chem\n",
    "from rdkit.Chem import Draw\n",
    "\n",
    "# Load Tox21 dataset from DeepChem\n",
    "tox21_tasks, datasets, transformers = dc.molnet.load_tox21(featurizer='ECFP')\n",
    "train_dataset, valid_dataset, test_dataset = datasets\n",
    "\n",
    "print(\"Number of training samples:\", len(train_dataset))\n",
    "print(\"Feature shape:\", train_dataset.X.shape)\n",
    "print(\"Labels shape:\", train_dataset.y.shape)\n"
   ]
  },
  {
   "cell_type": "code",
   "execution_count": null,
   "id": "6be7fde0",
   "metadata": {},
   "outputs": [],
   "source": [
    "# Convert a few molecules from SMILES and visualize\n",
    "smiles = train_dataset.ids[:5]\n",
    "mols = [Chem.MolFromSmiles(smi) for smi in smiles]\n",
    "Draw.MolsToGridImage(mols, molsPerRow=5, subImgSize=(200,200))\n"
   ]
  },
  {
   "cell_type": "code",
   "execution_count": null,
   "id": "a3a6d28d",
   "metadata": {},
   "outputs": [],
   "source": [
    "# Show the label matrix for the first few samples\n",
    "df = pd.DataFrame(train_dataset.y[:5], columns=tox21_tasks)\n",
    "df\n"
   ]
  },
  {
   "cell_type": "markdown",
   "id": "6c088f5d",
   "metadata": {},
   "source": [
    "📌 **Next steps**: Featurize with custom fingerprints, try a simple Random Forest model, and evaluate using ROC-AUC."
   ]
  }
 ],
 "metadata": {},
 "nbformat": 4,
 "nbformat_minor": 5
}
